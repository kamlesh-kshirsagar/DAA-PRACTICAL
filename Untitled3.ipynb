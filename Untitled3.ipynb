{
 "cells": [
  {
   "cell_type": "code",
   "execution_count": 1,
   "id": "5a17ce73",
   "metadata": {},
   "outputs": [
    {
     "name": "stdout",
     "output_type": "stream",
     "text": [
      "hello\n"
     ]
    }
   ],
   "source": [
    "print('hello')"
   ]
  },
  {
   "cell_type": "code",
   "execution_count": 2,
   "id": "52d1a48c",
   "metadata": {},
   "outputs": [
    {
     "name": "stdout",
     "output_type": "stream",
     "text": [
      "Hi, I'm a simple chatbot. Type 'bye' to end the chat.\n",
      "You: hii\n",
      "Chatbot: I'm not sure I understand.\n",
      "You: hello\n",
      "Chatbot: Hey!\n",
      "You: how are you\n",
      "Chatbot: Doing well, thanks for asking!\n",
      "You: what is your name\n",
      "Chatbot: I am a simple chatbot.\n",
      "You: bye\n",
      "Chatbot: Bye!\n"
     ]
    }
   ],
   "source": [
    "import random\n",
    "\n",
    "def perform_action(user_input):\n",
    "    user_input = user_input.lower()\n",
    "\n",
    "    if user_input in [\"hi\", \"hello\", \"hey\"]:\n",
    "        return random.choice([\"Hello!\", \"Hi there!\", \"Hey!\"])\n",
    "    elif user_input in [\"bye\", \"goodbye\"]:\n",
    "        return random.choice([\"Goodbye!\", \"Bye!\", \"See you!\"])\n",
    "    elif user_input in [\"how are you\", \"how's it going\", \"how r u\"]:\n",
    "        return random.choice([\"I'm good, thank you!\", \"Fine, thanks for asking!\", \"Feeling great! How about you?\"])\n",
    "    elif user_input in [\"what is your name\", \"who are you\"]:\n",
    "        return \"I am a simple chatbot.\"\n",
    "    else:\n",
    "        return random.choice([\"Sorry, I didn't get that.\", \"Could you please repeat that?\", \"I'm not sure I understand.\"])\n",
    "\n",
    "def chat():\n",
    "    print(\"Hi, I'm a simple chatbot. Type 'bye' to end the chat.\")\n",
    "    while True:\n",
    "        user_input = input(\"You: \")\n",
    "        if user_input.lower() == \"bye\":\n",
    "            print(\"Chatbot: Bye!\")\n",
    "            break\n",
    "        else:\n",
    "            response = perform_action(user_input)\n",
    "            print(\"Chatbot:\", response)\n",
    "\n",
    "if __name__ == \"__main__\":\n",
    "    chat()\n",
    "\n"
   ]
  },
  {
   "cell_type": "code",
   "execution_count": 3,
   "id": "f6dca644",
   "metadata": {},
   "outputs": [
    {
     "ename": "NameError",
     "evalue": "name 'defaultdict' is not defined",
     "output_type": "error",
     "traceback": [
      "\u001b[0;31m---------------------------------------------------------------------------\u001b[0m",
      "\u001b[0;31mNameError\u001b[0m                                 Traceback (most recent call last)",
      "Input \u001b[0;32mIn [3]\u001b[0m, in \u001b[0;36m<cell line: 20>\u001b[0;34m()\u001b[0m\n\u001b[1;32m     16\u001b[0m                 visited\u001b[38;5;241m.\u001b[39madd(vertex)\n\u001b[1;32m     17\u001b[0m                 queue\u001b[38;5;241m.\u001b[39mextend(\u001b[38;5;28mself\u001b[39m\u001b[38;5;241m.\u001b[39mgraph[vertex])\n\u001b[0;32m---> 20\u001b[0m graph \u001b[38;5;241m=\u001b[39m \u001b[43mGraph\u001b[49m\u001b[43m(\u001b[49m\u001b[43m)\u001b[49m\n\u001b[1;32m     21\u001b[0m graph\u001b[38;5;241m.\u001b[39madd_edge(\u001b[38;5;241m0\u001b[39m, \u001b[38;5;241m1\u001b[39m)\n\u001b[1;32m     22\u001b[0m graph\u001b[38;5;241m.\u001b[39madd_edge(\u001b[38;5;241m0\u001b[39m, \u001b[38;5;241m2\u001b[39m)\n",
      "Input \u001b[0;32mIn [3]\u001b[0m, in \u001b[0;36mGraph.__init__\u001b[0;34m(self)\u001b[0m\n\u001b[1;32m      2\u001b[0m \u001b[38;5;28;01mdef\u001b[39;00m \u001b[38;5;21m__init__\u001b[39m(\u001b[38;5;28mself\u001b[39m):\n\u001b[0;32m----> 3\u001b[0m     \u001b[38;5;28mself\u001b[39m\u001b[38;5;241m.\u001b[39mgraph \u001b[38;5;241m=\u001b[39m \u001b[43mdefaultdict\u001b[49m(\u001b[38;5;28mlist\u001b[39m)\n",
      "\u001b[0;31mNameError\u001b[0m: name 'defaultdict' is not defined"
     ]
    }
   ],
   "source": [
    "class Graph:\n",
    "    def __init__(self):\n",
    "        self.graph = defaultdict(list)\n",
    "\n",
    "    def add_edge(self, u, v):\n",
    "        self.graph[u].append(v)\n",
    "\n",
    "    def bfs(self, start):\n",
    "        visited = set()\n",
    "        queue = [start]\n",
    "\n",
    "        while queue:\n",
    "            vertex = queue.pop(0)\n",
    "            if vertex not in visited:\n",
    "                print(vertex, end=\" \")\n",
    "                visited.add(vertex)\n",
    "                queue.extend(self.graph[vertex])\n",
    "\n",
    "\n",
    "graph = Graph()\n",
    "graph.add_edge(0, 1)\n",
    "graph.add_edge(0, 2)\n",
    "graph.add_edge(1, 2)\n",
    "graph.add_edge(2, 0)\n",
    "graph.add_edge(2, 3)\n",
    "graph.add_edge(3, 3)\n",
    "\n",
    "start_vertex = 2\n",
    "print(\"BFS Traversal starting from vertex\", start_vertex, \":\")\n",
    "graph.bfs(start_vertex)    \n"
   ]
  },
  {
   "cell_type": "code",
   "execution_count": 5,
   "id": "512981aa",
   "metadata": {},
   "outputs": [
    {
     "ename": "SyntaxError",
     "evalue": "unexpected EOF while parsing (4028018585.py, line 31)",
     "output_type": "error",
     "traceback": [
      "\u001b[0;36m  Input \u001b[0;32mIn [5]\u001b[0;36m\u001b[0m\n\u001b[0;31m    print(\"BFS Traversal starting from vertex\"\u001b[0m\n\u001b[0m                                              ^\u001b[0m\n\u001b[0;31mSyntaxError\u001b[0m\u001b[0;31m:\u001b[0m unexpected EOF while parsing\n"
     ]
    }
   ],
   "source": [
    "from collections import defaultdict\n",
    "\n",
    "class Graph:\n",
    "    def __init__(self):\n",
    "        self.graph = defaultdict(list)\n",
    "\n",
    "    def add_edge(self, u, v):\n",
    "        self.graph[u].append(v)\n",
    "\n",
    "    def bfs(self, start):\n",
    "        visited = set()\n",
    "        queue = [start]\n",
    "\n",
    "        while queue:\n",
    "            vertex = queue.pop(0)\n",
    "            if vertex not in visited:\n",
    "                print(vertex, end=\" \")\n",
    "                visited.add(vertex)\n",
    "                queue.extend(self.graph[vertex])\n",
    "\n",
    "\n",
    "graph = Graph()\n",
    "graph.add_edge(0, 1)\n",
    "graph.add_edge(0, 2)                                              \n",
    "graph.add_edge(1, 2)\n",
    "graph.add_edge(2, 0)\n",
    "graph.add_edge(2, 3)                                                   \n",
    "graph.add_edge(3, 3)\n",
    "\n",
    "start_vertex = 2\n",
    "print(\"BFS Traversal starting from vertex\"\n"
   ]
  },
  {
   "cell_type": "code",
   "execution_count": 9,
   "id": "4f398dde",
   "metadata": {},
   "outputs": [
    {
     "name": "stdout",
     "output_type": "stream",
     "text": [
      "Following is the Breadth-First Search\n",
      "1 2 3 4 5 6 "
     ]
    }
   ],
   "source": [
    "graph = {\n",
    "  '1' : ['2','3'],\n",
    "  '2' : ['4', '5'],\n",
    "  '3' : ['6'],\n",
    "  '4' : [],\n",
    "  '5' : ['6'],\n",
    "  '6' : []\n",
    "}\n",
    "\n",
    "visited = [] \n",
    "queue = []    \n",
    "\n",
    "def bfs(visited, graph, node):\n",
    "  visited.append(node)\n",
    "  queue.append(node)\n",
    "\n",
    "  while queue:         \n",
    "    m = queue.pop(0) \n",
    "    print (m, end = \" \") \n",
    "\n",
    "    for neighbour in graph[m]:\n",
    "      if neighbour not in visited:\n",
    "        visited.append(neighbour)\n",
    "        queue.append(neighbour)\n",
    "\n",
    "\n",
    "print(\"Following is the Breadth-First Search\")\n",
    "bfs(visited, graph, '1')    \n"
   ]
  },
  {
   "cell_type": "code",
   "execution_count": 10,
   "id": "ff2dbc5f",
   "metadata": {},
   "outputs": [
    {
     "name": "stdout",
     "output_type": "stream",
     "text": [
      "Following is the Depth-First Search\n",
      "5\n",
      "3\n",
      "2\n",
      "4\n",
      "8\n",
      "7\n"
     ]
    }
   ],
   "source": [
    "graph = {\n",
    "  '5' : ['3','7'],\n",
    "  '3' : ['2', '4'],\n",
    "  '7' : ['8'],\n",
    "  '2' : [],\n",
    "  '4' : ['8'],\n",
    "  '8' : []\n",
    "}\n",
    "\n",
    "visited = set() \n",
    "\n",
    "def dfs(visited, graph, node):  \n",
    "    if node not in visited:\n",
    "        print (node)\n",
    "        visited.add(node)\n",
    "        for neighbour in graph[node]:\n",
    "            dfs(visited, graph, neighbour)\n",
    "            \n",
    "print(\"Following is the Depth-First Search\")\n",
    "dfs(visited, graph, '5')"
   ]
  },
  {
   "cell_type": "code",
   "execution_count": 12,
   "id": "3eaaedb0",
   "metadata": {},
   "outputs": [
    {
     "name": "stdout",
     "output_type": "stream",
     "text": [
      " Jug A=0, Jug B=0\n",
      " Jug A=4, Jug B=0\n",
      " Jug A=1, Jug B=3\n",
      " Jug A=1, Jug B=0\n",
      " Jug A=1, Jug B=0\n",
      " Jug A=0, Jug B=1\n",
      " Jug A=4, Jug B=1\n",
      " Jug A=2, Jug B=3\n",
      "Jug A=2, Jug B=3\n"
     ]
    }
   ],
   "source": [
    "def water_jug_problem(capacity_a, capacity_b, target):\n",
    "    state_a, state_b = 0, 0  \n",
    "    print(f\" Jug A={state_a}, Jug B={state_b}\")\n",
    "\n",
    "    while state_a != target or state_b != target:\n",
    "     \n",
    "        if state_a < capacity_a:\n",
    "            state_a = capacity_a\n",
    "            print(f\" Jug A={state_a}, Jug B={state_b}\")\n",
    "\n",
    "  \n",
    "        pour = min(state_a, capacity_b - state_b)\n",
    "        state_a -= pour\n",
    "        state_b += pour\n",
    "        print(f\" Jug A={state_a}, Jug B={state_b}\")\n",
    "\n",
    "\n",
    "        if state_a == target or state_b == target:\n",
    "            break\n",
    "\n",
    "        if state_b == capacity_b:\n",
    "            state_b = 0\n",
    "            print(f\" Jug A={state_a}, Jug B={state_b}\")\n",
    "      \n",
    "        pour = min(state_b, capacity_a - state_a)\n",
    "        state_a += pour\n",
    "        state_b -= pour\n",
    "        print(f\" Jug A={state_a}, Jug B={state_b}\")\n",
    "\n",
    "        pour = min(state_a, capacity_b - state_b)\n",
    "        state_a -= pour\n",
    "        state_b += pour\n",
    "        print(f\" Jug A={state_a}, Jug B={state_b}\")\n",
    "        \n",
    "    print(f\"Jug A={state_a}, Jug B={state_b}\")\n",
    "if __name__ == \"__main__\":\n",
    "    water_jug_problem(4, 3, 2)\n"
   ]
  },
  {
   "cell_type": "code",
   "execution_count": null,
   "id": "975deedd",
   "metadata": {},
   "outputs": [],
   "source": []
  }
 ],
 "metadata": {
  "kernelspec": {
   "display_name": "Python 3 (ipykernel)",
   "language": "python",
   "name": "python3"
  },
  "language_info": {
   "codemirror_mode": {
    "name": "ipython",
    "version": 3
   },
   "file_extension": ".py",
   "mimetype": "text/x-python",
   "name": "python",
   "nbconvert_exporter": "python",
   "pygments_lexer": "ipython3",
   "version": "3.9.12"
  }
 },
 "nbformat": 4,
 "nbformat_minor": 5
}
